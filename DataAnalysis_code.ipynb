{
 "cells": [
  {
   "cell_type": "code",
   "execution_count": null,
   "metadata": {},
   "outputs": [],
   "source": [
    "import pandas as pd\n",
    "import matplotlib.pyplot as plt\n",
    "import seaborn as sns\n",
    "\n",
    "# Load data from CSV file\n",
    "df = pd.read_csv(\"onlinefoods.csv\")\n",
    "\n",
    "# Display the first few rows of the dataframe\n",
    "print(df.head())\n",
    "\n",
    "# Continuous features\n",
    "continuous_features = ['Age', 'Family size', 'latitude', 'longitude']\n",
    "\n",
    "# Nominal features\n",
    "nominal_features = ['Gender', 'Marital Status', 'Occupation', 'Pin code', 'Output', 'Feedback']\n",
    "\n",
    "# Plot histograms for continuous features\n",
    "plt.figure(figsize=(15, 5))\n",
    "for i, feature in enumerate(continuous_features, 1):\n",
    "    plt.subplot(1, 4, i)\n",
    "    sns.histplot(df[feature], kde=True)\n",
    "    plt.title(f'{feature} Distribution')\n",
    "plt.tight_layout()\n",
    "plt.show()\n",
    "\n",
    "# Plot bar charts for nominal features\n",
    "plt.figure(figsize=(15, 10))\n",
    "for i, feature in enumerate(nominal_features, 1):\n",
    "    plt.subplot(3, 2, i)\n",
    "    sns.countplot(data=df, x=feature)\n",
    "    plt.title(f'{feature} Distribution')\n",
    "    plt.xticks(rotation=45)\n",
    "plt.tight_layout()\n",
    "plt.show()\n"
   ]
  }
 ],
 "metadata": {
  "language_info": {
   "name": "python"
  }
 },
 "nbformat": 4,
 "nbformat_minor": 2
}
